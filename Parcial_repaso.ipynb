{
  "nbformat": 4,
  "nbformat_minor": 0,
  "metadata": {
    "colab": {
      "provenance": [],
      "authorship_tag": "ABX9TyNTabGtMX/7KhCdOPgkqGT5",
      "include_colab_link": true
    },
    "kernelspec": {
      "name": "python3",
      "display_name": "Python 3"
    },
    "language_info": {
      "name": "python"
    }
  },
  "cells": [
    {
      "cell_type": "markdown",
      "metadata": {
        "id": "view-in-github",
        "colab_type": "text"
      },
      "source": [
        "<a href=\"https://colab.research.google.com/github/asrivasSW/AI-CLASS/blob/main/Parcial_repaso.ipynb\" target=\"_parent\"><img src=\"https://colab.research.google.com/assets/colab-badge.svg\" alt=\"Open In Colab\"/></a>"
      ]
    },
    {
      "cell_type": "code",
      "execution_count": 1,
      "metadata": {
        "id": "0eDAmBpiV-Gc"
      },
      "outputs": [],
      "source": [
        "import numpy as np\n",
        "import pandas as ap\n",
        "import matplotlib.pyplot as plt\n",
        "import scipy.stats as stats"
      ]
    },
    {
      "cell_type": "code",
      "source": [
        "#Crea un arreglo de 1 en 3x4\n",
        "\n",
        "test = np.ones((3,4))\n",
        "\n",
        "print(test)\n"
      ],
      "metadata": {
        "colab": {
          "base_uri": "https://localhost:8080/"
        },
        "id": "8QMB5t7xXKjw",
        "outputId": "2a8257ea-4c1a-46f8-d8d4-3da165ada5f5"
      },
      "execution_count": 2,
      "outputs": [
        {
          "output_type": "stream",
          "name": "stdout",
          "text": [
            "[[1. 1. 1. 1.]\n",
            " [1. 1. 1. 1.]\n",
            " [1. 1. 1. 1.]]\n"
          ]
        }
      ]
    },
    {
      "cell_type": "code",
      "source": [
        "#Imprime un arreglo de 0 en 2x2\n",
        "\n",
        "test2 = np.zeros((2,2))\n",
        "\n",
        "print(test2)"
      ],
      "metadata": {
        "colab": {
          "base_uri": "https://localhost:8080/"
        },
        "id": "DLpq1neHXfjI",
        "outputId": "663e508b-b33b-4352-835f-ba125fb0aaf6"
      },
      "execution_count": 3,
      "outputs": [
        {
          "output_type": "stream",
          "name": "stdout",
          "text": [
            "[[0. 0.]\n",
            " [0. 0.]]\n"
          ]
        }
      ]
    },
    {
      "cell_type": "code",
      "source": [
        "#Accede a la segunda fila de la siguiente matriz\n",
        "\n",
        "test3 = np.array([[1,2,3,4,5], [6,7,8,9,10]])\n",
        "\n",
        "fila = test3[1,:]\n",
        "\n",
        "print(fila)"
      ],
      "metadata": {
        "colab": {
          "base_uri": "https://localhost:8080/"
        },
        "id": "uBkgEKd6XnyX",
        "outputId": "ddb79b02-2cee-4b7c-f148-865663a04f84"
      },
      "execution_count": 5,
      "outputs": [
        {
          "output_type": "stream",
          "name": "stdout",
          "text": [
            "[ 6  7  8  9 10]\n"
          ]
        }
      ]
    },
    {
      "cell_type": "code",
      "source": [
        "#Accede a la quinta columna de la matriz anterior\n",
        "\n",
        "columna = test3[:,4]\n",
        "\n",
        "print(columna)\n"
      ],
      "metadata": {
        "colab": {
          "base_uri": "https://localhost:8080/"
        },
        "id": "PMVNQiDsYZhP",
        "outputId": "ac8b5976-6e98-4621-92ae-8144be18fb8e"
      },
      "execution_count": 6,
      "outputs": [
        {
          "output_type": "stream",
          "name": "stdout",
          "text": [
            "[ 5 10]\n"
          ]
        }
      ]
    },
    {
      "cell_type": "code",
      "source": [
        "#Realiza las operaciones basicas, con 2 matrices\n",
        "\n",
        "a = np.array([[3,6,9,3,2],\n",
        "             [9,4,5,6,3],\n",
        "             [4,3,5,9,3]])\n",
        "\n",
        "b = np.array([[3,1,5,6,7],\n",
        "             [3,2,5,7,8],\n",
        "             [4,3,4,5,1]])\n",
        "\n",
        "suma = a + b\n",
        "\n",
        "print(\"\\nEste es resultado de suma\\n\", suma)\n",
        "\n",
        "resta = a - b\n",
        "\n",
        "print(\"\\nResta\\n\", resta)\n",
        "\n",
        "multiplicacion = a * b\n",
        "\n",
        "print(\"\\nMultipalicación\\n\",multiplicacion)\n",
        "\n",
        "division = a / b\n",
        "\n",
        "print(\"\\nDivisión\\n\",division)\n",
        "\n",
        "potencia = a ** b\n",
        "\n",
        "print(\"\\nPotencia\\n\",potencia)\n",
        "\n",
        "raiz = np.sqrt(a)\n",
        "\n",
        "print(\"\\nRaiz\\n\",raiz)"
      ],
      "metadata": {
        "colab": {
          "base_uri": "https://localhost:8080/"
        },
        "id": "ORmDoCR6ZBuW",
        "outputId": "a17a0bea-76c5-4d1c-feda-11b857b63ed8"
      },
      "execution_count": 14,
      "outputs": [
        {
          "output_type": "stream",
          "name": "stdout",
          "text": [
            "\n",
            "Este es resultado de suma\n",
            " [[ 6  7 14  9  9]\n",
            " [12  6 10 13 11]\n",
            " [ 8  6  9 14  4]]\n",
            "\n",
            "Resta\n",
            " [[ 0  5  4 -3 -5]\n",
            " [ 6  2  0 -1 -5]\n",
            " [ 0  0  1  4  2]]\n",
            "\n",
            "Multipalicación\n",
            " [[ 9  6 45 18 14]\n",
            " [27  8 25 42 24]\n",
            " [16  9 20 45  3]]\n",
            "\n",
            "División\n",
            " [[1.         6.         1.8        0.5        0.28571429]\n",
            " [3.         2.         1.         0.85714286 0.375     ]\n",
            " [1.         1.         1.25       1.8        3.        ]]\n",
            "\n",
            "Potencia\n",
            " [[    27      6  59049    729    128]\n",
            " [   729     16   3125 279936   6561]\n",
            " [   256     27    625  59049      3]]\n",
            "\n",
            "Raiz\n",
            " [[1.73205081 2.44948974 3.         1.73205081 1.41421356]\n",
            " [3.         2.         2.23606798 2.44948974 1.73205081]\n",
            " [2.         1.73205081 2.23606798 3.         1.73205081]]\n"
          ]
        }
      ]
    },
    {
      "cell_type": "code",
      "source": [
        "# Bloque 1: NumPy - Arrays, Operaciones y Funciones\n",
        "\n",
        "\n",
        "# 1. Creación de Arrays\n",
        "arr1 = np.array([1, 3, 4, 5, 6])  # Array a partir de una lista\n",
        "print(\"Array simple:\", arr1)\n",
        "\n",
        "# 2. Arrays Especiales\n",
        "zeros = np.zeros((3, 3))  # Matriz 3x3 de ceros\n",
        "ones = np.ones((2, 4))   # Matriz 2x4 de unos\n",
        "arange = np.arange(0, 10, 2)  # Array de 0 a 10 (excluye 10) con paso 2\n",
        "linspace = np.linspace(0, 1, 5)  # 5 números espaciados entre 0 y 1\n",
        "print(\"\\nMatriz de ceros (3x3):\\n\", zeros)\n",
        "print(\"Matriz de unos (2x4):\\n\", ones)\n",
        "print(\"Array con np.arange:\", arange)\n",
        "print(\"Array con np.linspace:\", linspace)\n",
        "\n",
        "# 3. Operaciones Elemento a Elemento\n",
        "a = np.array([1, 2, 3])\n",
        "b = np.array([4, 5, 6])\n",
        "print(\"\\nSuma elemento a elemento:\", a + b)\n",
        "print(\"Multiplicación elemento a elemento:\", a * b)\n",
        "print(\"Potencia elemento a elemento (a^2):\", a ** 2)\n",
        "\n",
        "# 4. Indexación y Slicing\n",
        "print(\"\\nPrimer elemento de arr1:\", arr1[0])\n",
        "print(\"Último elemento de arr1:\", arr1[-1])\n",
        "print(\"Subarray arr1[1:4]:\", arr1[1:4])\n",
        "\n",
        "# 5. Indexación en Matrices\n",
        "matriz = np.array([[1, 2, 3], [4, 5, 6], [7, 8, 9]])\n",
        "print(\"\\nMatriz 3x3:\\n\", matriz)\n",
        "print(\"Elemento en (1,1):\", matriz[1, 1])\n",
        "print(\"Columna 0:\", matriz[:, 0])\n",
        "print(\"Fila 2:\", matriz[2, :])\n",
        "\n",
        "# 6. Funciones Estadísticas\n",
        "print(\"\\nSuma de arr1:\", np.sum(arr1))\n",
        "print(\"Media de arr1:\", np.mean(arr1))\n",
        "print(\"Máximo de arr1:\", np.max(arr1))\n",
        "print(\"Mínimo de arr1:\", np.min(arr1))\n",
        "\n",
        "# 7. Operaciones Matriciales\n",
        "print(\"\\nDimensiones de matriz:\", matriz.shape)\n",
        "print(\"Producto matricial (matriz.dot(matriz)):\\n\", matriz.dot(matriz))\n",
        "print(\"Transpuesta de matriz:\\n\", matriz.T)\n",
        "\n",
        "# 8. Normalización Min-Max\n",
        "datos = np.array([10, 20, 30, 40, 50])\n",
        "normalizados = (datos - np.min(datos)) / (np.max(datos) - np.min(datos))\n",
        "print(\"\\nDatos normalizados (Min-Max):\", normalizados)"
      ],
      "metadata": {
        "colab": {
          "base_uri": "https://localhost:8080/"
        },
        "id": "5VnTEaJzbDIM",
        "outputId": "23a3954c-c803-4aec-baf3-9e63a5981d14"
      },
      "execution_count": 20,
      "outputs": [
        {
          "output_type": "stream",
          "name": "stdout",
          "text": [
            "Array simple: [1 3 4 5 6]\n",
            "\n",
            "Matriz de ceros (3x3):\n",
            " [[0. 0. 0.]\n",
            " [0. 0. 0.]\n",
            " [0. 0. 0.]]\n",
            "Matriz de unos (2x4):\n",
            " [[1. 1. 1. 1.]\n",
            " [1. 1. 1. 1.]]\n",
            "Array con np.arange: [0 2 4 6 8]\n",
            "Array con np.linspace: [0.   0.25 0.5  0.75 1.  ]\n",
            "\n",
            "Suma elemento a elemento: [5 7 9]\n",
            "Multiplicación elemento a elemento: [ 4 10 18]\n",
            "Potencia elemento a elemento (a^2): [1 4 9]\n",
            "\n",
            "Primer elemento de arr1: 1\n",
            "Último elemento de arr1: 6\n",
            "Subarray arr1[1:4]: [3 4 5]\n",
            "\n",
            "Matriz 3x3:\n",
            " [[1 2 3]\n",
            " [4 5 6]\n",
            " [7 8 9]]\n",
            "Elemento en (1,1): 5\n",
            "Columna 0: [1 4 7]\n",
            "Fila 2: [7 8 9]\n",
            "\n",
            "Suma de arr1: 19\n",
            "Media de arr1: 3.8\n",
            "Máximo de arr1: 6\n",
            "Mínimo de arr1: 1\n",
            "\n",
            "Dimensiones de matriz: (3, 3)\n",
            "Producto matricial (matriz.dot(matriz)):\n",
            " [[ 30  36  42]\n",
            " [ 66  81  96]\n",
            " [102 126 150]]\n",
            "Transpuesta de matriz:\n",
            " [[1 4 7]\n",
            " [2 5 8]\n",
            " [3 6 9]]\n",
            "\n",
            "Datos normalizados (Min-Max): [0.   0.25 0.5  0.75 1.  ]\n"
          ]
        }
      ]
    },
    {
      "cell_type": "code",
      "source": [
        "# Bloque 2: Pandas - DataFrames, Series y Manipulación de Datos\n",
        "\n",
        "# 1. Creación de DataFrame\n",
        "data = {'Name': ['Alice', 'Bob', 'Charlie'], 'Age': [25, 30, 35]}\n",
        "df = pd.DataFrame(data)\n",
        "print(\"DataFrame:\\n\", df)\n",
        "\n",
        "# 2. Creación de Serie\n",
        "serie = pd.Series([14, 18, 24, 25], name=\"Edades\")\n",
        "print(\"\\nSerie:\\n\", serie)\n",
        "\n",
        "# 3. Inspección de Datos\n",
        "print(\"\\nTipos de datos del DataFrame:\\n\", df.dtypes)\n",
        "print(\"\\nInformación del DataFrame:\")\n",
        "df.info()\n",
        "print(\"\\nValores como array NumPy:\\n\", df.values)\n",
        "\n",
        "# 4. Selección de Columnas\n",
        "print(\"\\nSelección de columna 'Name':\\n\", df[[\"Name\"]])\n",
        "\n",
        "# 5. Añadir/Transformar Columna\n",
        "df = df.assign(Age_Doubled=df[\"Age\"] * 2)\n",
        "print(\"\\nDataFrame con nueva columna 'Age_Doubled':\\n\", df)\n",
        "\n",
        "# 6. Filtrado de Datos\n",
        "# Ejemplo con dataset 'tips' simulado\n",
        "tips = pd.DataFrame({\n",
        "    'total_bill': [16.99, 10.34, 21.01, 23.68, 24.59],\n",
        "    'tip': [1.01, 1.66, 3.50, 3.31, 3.61],\n",
        "    'smoker': ['No', 'No', 'No', 'Yes', 'Yes'],\n",
        "    'time': ['Dinner', 'Lunch', 'Dinner', 'Dinner', 'Lunch'],\n",
        "    'size': [2, 3, 3, 2, 4]\n",
        "})\n",
        "print(\"\\nDataset 'tips':\\n\", tips)\n",
        "print(\"\\nFiltrado (total_bill < 15):\\n\", tips[tips[\"total_bill\"] < 15])\n",
        "print(\"\\nFiltrado múltiple (time == 'Dinner' & tip > 3.00):\\n\",\n",
        "      tips[(tips[\"time\"] == \"Dinner\") & (tips[\"tip\"] > 3.00)])\n",
        "print(\"\\nFiltrado múltiple (size >= 3 | total_bill > 20):\\n\",\n",
        "      tips[(tips[\"size\"] >= 3) | (tips[\"total_bill\"] > 20)])\n",
        "\n",
        "# 7. Modificar Índice\n",
        "df.index = ['a', 'b', 'c']\n",
        "print(\"\\nDataFrame con nuevo índice:\\n\", df)"
      ],
      "metadata": {
        "colab": {
          "base_uri": "https://localhost:8080/"
        },
        "id": "i2NfvFiul1oV",
        "outputId": "7a0b3565-6abb-4234-cf36-199591582912"
      },
      "execution_count": 19,
      "outputs": [
        {
          "output_type": "stream",
          "name": "stdout",
          "text": [
            "DataFrame:\n",
            "       Name  Age\n",
            "0    Alice   25\n",
            "1      Bob   30\n",
            "2  Charlie   35\n",
            "\n",
            "Serie:\n",
            " 0    14\n",
            "1    18\n",
            "2    24\n",
            "3    25\n",
            "Name: Edades, dtype: int64\n",
            "\n",
            "Tipos de datos del DataFrame:\n",
            " Name    object\n",
            "Age      int64\n",
            "dtype: object\n",
            "\n",
            "Información del DataFrame:\n",
            "<class 'pandas.core.frame.DataFrame'>\n",
            "RangeIndex: 3 entries, 0 to 2\n",
            "Data columns (total 2 columns):\n",
            " #   Column  Non-Null Count  Dtype \n",
            "---  ------  --------------  ----- \n",
            " 0   Name    3 non-null      object\n",
            " 1   Age     3 non-null      int64 \n",
            "dtypes: int64(1), object(1)\n",
            "memory usage: 180.0+ bytes\n",
            "\n",
            "Valores como array NumPy:\n",
            " [['Alice' 25]\n",
            " ['Bob' 30]\n",
            " ['Charlie' 35]]\n",
            "\n",
            "Selección de columna 'Name':\n",
            "       Name\n",
            "0    Alice\n",
            "1      Bob\n",
            "2  Charlie\n",
            "\n",
            "DataFrame con nueva columna 'Age_Doubled':\n",
            "       Name  Age  Age_Doubled\n",
            "0    Alice   25           50\n",
            "1      Bob   30           60\n",
            "2  Charlie   35           70\n",
            "\n",
            "Dataset 'tips':\n",
            "    total_bill   tip smoker    time  size\n",
            "0       16.99  1.01     No  Dinner     2\n",
            "1       10.34  1.66     No   Lunch     3\n",
            "2       21.01  3.50     No  Dinner     3\n",
            "3       23.68  3.31    Yes  Dinner     2\n",
            "4       24.59  3.61    Yes   Lunch     4\n",
            "\n",
            "Filtrado (total_bill < 15):\n",
            "    total_bill   tip smoker   time  size\n",
            "1       10.34  1.66     No  Lunch     3\n",
            "\n",
            "Filtrado múltiple (time == 'Dinner' & tip > 3.00):\n",
            "    total_bill   tip smoker    time  size\n",
            "2       21.01  3.50     No  Dinner     3\n",
            "3       23.68  3.31    Yes  Dinner     2\n",
            "\n",
            "Filtrado múltiple (size >= 3 | total_bill > 20):\n",
            "    total_bill   tip smoker    time  size\n",
            "1       10.34  1.66     No   Lunch     3\n",
            "2       21.01  3.50     No  Dinner     3\n",
            "3       23.68  3.31    Yes  Dinner     2\n",
            "4       24.59  3.61    Yes   Lunch     4\n",
            "\n",
            "DataFrame con nuevo índice:\n",
            "       Name  Age  Age_Doubled\n",
            "a    Alice   25           50\n",
            "b      Bob   30           60\n",
            "c  Charlie   35           70\n"
          ]
        }
      ]
    },
    {
      "cell_type": "code",
      "source": [
        "# Bloque 3: Estadística Descriptiva con Python, NumPy y Pandas\n",
        "\n",
        "\n",
        "# Datos de ejemplo\n",
        "data = [10, 20, 20, 30, 40, 50, 100]\n",
        "\n",
        "# 1. Medidas de Tendencia Central\n",
        "# Media\n",
        "def promedio_lista(lista):\n",
        "    return sum(lista) / len(lista)\n",
        "print(\"Media (Python puro):\", promedio_lista(data))\n",
        "print(\"Media (NumPy):\", np.mean(data))\n",
        "print(\"Media (Pandas):\", pd.Series(data).mean())\n",
        "\n",
        "# Mediana\n",
        "def mediana_lista(lista):\n",
        "    sorted_list = sorted(lista)\n",
        "    n = len(sorted_list)\n",
        "    if n % 2 == 0:\n",
        "        return (sorted_list[n//2 - 1] + sorted_list[n//2]) / 2\n",
        "    else:\n",
        "        return sorted_list[n//2]\n",
        "print(\"\\nMediana (Python puro):\", mediana_lista(data))\n",
        "print(\"Mediana (NumPy):\", np.median(data))\n",
        "print(\"Mediana (Pandas):\", pd.Series(data).median())\n",
        "\n",
        "# Moda\n",
        "def moda_lista(lista):\n",
        "    from collections import Counter\n",
        "    counts = Counter(lista)\n",
        "    return max(counts, key=counts.get)\n",
        "print(\"\\nModa (Python puro):\", moda_lista(data))\n",
        "print(\"Moda (Pandas):\", pd.Series(data).mode()[0])\n",
        "\n",
        "# 2. Medidas de Dispersión\n",
        "# Rango\n",
        "def rango_lista(datos):\n",
        "    return max(datos) - min(datos)\n",
        "print(\"\\nRango (Python puro):\", rango_lista(data))\n",
        "print(\"Rango (NumPy):\", np.max(data) - np.min(data))\n",
        "\n",
        "# Desviación Estándar\n",
        "print(\"\\nDesviación Estándar (NumPy):\", np.std(data, ddof=1))\n",
        "print(\"Desviación Estándar (Pandas):\", pd.Series(data).std())\n",
        "\n",
        "# Correlación y Covarianza\n",
        "df = pd.DataFrame({\n",
        "    'income': [30000, 45000, 50000, 60000, 75000],\n",
        "    'age': [25, 30, 35, 40, 45]\n",
        "})\n",
        "print(\"\\nCorrelación (Pandas):\\n\", df[['income', 'age']].corr())\n",
        "print(\"\\nCovarianza (NumPy):\\n\", np.cov(df[['income', 'age']].values.T))\n",
        "\n",
        "# 3. Prueba de Normalidad (Shapiro-Wilk)\n",
        "normal_data = np.random.randn(100)  # Datos normales\n",
        "print(\"\\nPrueba Shapiro-Wilk (datos normales):\", stats.shapiro(normal_data))\n",
        "print(\"Prueba Shapiro-Wilk (data no normal):\", stats.shapiro(data))\n",
        "# Nota: p-value < 0.05 indica que los datos NO son normales"
      ],
      "metadata": {
        "colab": {
          "base_uri": "https://localhost:8080/"
        },
        "id": "V5eJW4fAmaN_",
        "outputId": "37b797d6-3472-4077-9958-bc387ca0f0c6"
      },
      "execution_count": 18,
      "outputs": [
        {
          "output_type": "stream",
          "name": "stdout",
          "text": [
            "Media (Python puro): 38.57142857142857\n",
            "Media (NumPy): 38.57142857142857\n",
            "Media (Pandas): 38.57142857142857\n",
            "\n",
            "Mediana (Python puro): 30\n",
            "Mediana (NumPy): 30.0\n",
            "Mediana (Pandas): 30.0\n",
            "\n",
            "Moda (Python puro): 20\n",
            "Moda (Pandas): 20\n",
            "\n",
            "Rango (Python puro): 90\n",
            "Rango (NumPy): 90\n",
            "\n",
            "Desviación Estándar (NumPy): 30.237157840738178\n",
            "Desviación Estándar (Pandas): 30.237157840738178\n",
            "\n",
            "Correlación (Pandas):\n",
            "           income       age\n",
            "income  1.000000  0.987757\n",
            "age     0.987757  1.000000\n",
            "\n",
            "Covarianza (NumPy):\n",
            " [[2.8250e+08 1.3125e+05]\n",
            " [1.3125e+05 6.2500e+01]]\n",
            "\n",
            "Prueba Shapiro-Wilk (datos normales): ShapiroResult(statistic=np.float64(0.9904453877202096), pvalue=np.float64(0.70059144110172))\n",
            "Prueba Shapiro-Wilk (data no normal): ShapiroResult(statistic=np.float64(0.8427362098526461), pvalue=np.float64(0.10535215117208807))\n"
          ]
        }
      ]
    }
  ]
}